{
 "cells": [
  {
   "cell_type": "markdown",
   "metadata": {},
   "source": [
    "# Homework 2: SVD and PCA for Machine Learning (Part 2)"
   ]
  },
  {
   "cell_type": "code",
   "execution_count": 11,
   "metadata": {},
   "outputs": [
    {
     "name": "stdout",
     "output_type": "stream",
     "text": [
      "(42000, 785)\n",
      "(784, 42000) (42000,)\n"
     ]
    }
   ],
   "source": [
    "import numpy as np\n",
    "import matplotlib.pyplot as plt\n",
    "import pandas as pd\n",
    "\n",
    "data = pd.read_csv('./data/train.csv')\n",
    "print(data.shape)\n",
    "data = np.array(data)\n",
    "X = data[:, 1:]\n",
    "X = X.T\n",
    "\n",
    "Y = data[:, 0]\n",
    "\n",
    "print(X.shape, Y.shape)\n",
    "\n",
    "d, N = X.shape"
   ]
  },
  {
   "cell_type": "code",
   "execution_count": 12,
   "metadata": {},
   "outputs": [
    {
     "data": {
      "image/png": "[encoded data removed]",
      "text/plain": [
       "<Figure size 640x480 with 1 Axes>"
      ]
     },
     "metadata": {},
     "output_type": "display_data"
    }
   ],
   "source": [
    "def show_mnist_sample(X, idx):\n",
    "    image = X[:, idx].reshape((28, 28))\n",
    "\n",
    "    plt.imshow(image, cmap='gray')\n",
    "    plt.axis('off')\n",
    "    plt.show()\n",
    "\n",
    "show_mnist_sample(X, 4200)"
   ]
  },
  {
   "cell_type": "code",
   "execution_count": 13,
   "metadata": {},
   "outputs": [
    {
     "name": "stdout",
     "output_type": "stream",
     "text": [
      "filtered_X: (784, 8423), filtered_Y: (8423,)\n"
     ]
    }
   ],
   "source": [
    "C1 = 3\n",
    "C2 = 4\n",
    "matrix_filter = (Y==C1) | (Y==C2)\n",
    "filtered_X = X[:, matrix_filter]\n",
    "filtered_Y = Y[matrix_filter]\n",
    "\n",
    "print(f\"filtered_X: {filtered_X.shape}, filtered_Y: {filtered_Y.shape}\")"
   ]
  },
  {
   "cell_type": "code",
   "execution_count": 14,
   "metadata": {},
   "outputs": [
    {
     "name": "stdout",
     "output_type": "stream",
     "text": [
      "6738\n",
      "X train: (784, 6738), y train: (6738,)\n",
      "X train: (784, 1685), y train: (1685,)\n"
     ]
    }
   ],
   "source": [
    "num_samples = filtered_X.shape[1]\n",
    "train_end = int(num_samples * 0.8)\n",
    "print(train_end)\n",
    "\n",
    "X_train = filtered_X[:, :train_end]\n",
    "X_test = filtered_X[:, train_end:]\n",
    "\n",
    "y_train = filtered_Y[:train_end]\n",
    "y_test = filtered_Y[train_end:]\n",
    "\n",
    "print(f\"X train: {X_train.shape}, y train: {y_train.shape}\")\n",
    "print(f\"X train: {X_test.shape}, y train: {y_test.shape}\")"
   ]
  },
  {
   "cell_type": "code",
   "execution_count": 15,
   "metadata": {},
   "outputs": [],
   "source": [
    "def fit_classifier(C1, C2, X_train, y_train) :\n",
    "    X1 = X_train[:, y_train == C1]\n",
    "    X2 = X_train[:, y_train == C2]\n",
    "\n",
    "    U1, _, _ = np.linalg.svd(X1, full_matrices=False)\n",
    "    U2, _, _ = np.linalg.svd(X2, full_matrices=False)\n",
    "\n",
    "    return U1, U2\n",
    "\n",
    "U1, U2 = fit_classifier(C1, C2, X_train, y_train)"
   ]
  },
  {
   "cell_type": "markdown",
   "metadata": {},
   "source": [
    "### Testing the classifier"
   ]
  },
  {
   "cell_type": "code",
   "execution_count": 16,
   "metadata": {},
   "outputs": [
    {
     "data": {
      "image/png": "[encoded data removed]",
      "text/plain": [
       "<Figure size 640x480 with 1 Axes>"
      ]
     },
     "metadata": {},
     "output_type": "display_data"
    },
    {
     "name": "stdout",
     "output_type": "stream",
     "text": [
      "3\n"
     ]
    }
   ],
   "source": [
    "x = X_test[:, 20]\n",
    "label = y_test[20]\n",
    "show_mnist_sample(X_test, 20)\n",
    "print(label)"
   ]
  },
  {
   "cell_type": "code",
   "execution_count": 17,
   "metadata": {},
   "outputs": [
    {
     "name": "stdout",
     "output_type": "stream",
     "text": [
      "classified as 3\n"
     ]
    }
   ],
   "source": [
    "def classify(x, U1, U2, C1, C2):\n",
    "    x_p_1 = U1 @ (U1.T @ x)\n",
    "    x_p_2 = U2 @ (U2.T @ x)\n",
    "\n",
    "    d1 = np.linalg.norm((x_p_1 - x), 2)\n",
    "    d2 = np.linalg.norm((x_p_2 - x), 2)\n",
    "\n",
    "    y_pred = C1 if (d1 < d2) else C2\n",
    "    return y_pred\n",
    "\n",
    "print(f\"classified as {classify(x, U1, U2, C1, C2)}\")"
   ]
  },
  {
   "cell_type": "code",
   "execution_count": 18,
   "metadata": {},
   "outputs": [
    {
     "data": {
      "text/plain": [
       "0.045103857566765576"
      ]
     },
     "execution_count": 18,
     "metadata": {},
     "output_type": "execute_result"
    }
   ],
   "source": [
    "def misclassification_rate(U1, U2, X_test, y_test, C1, C2):\n",
    "    n_test = X_test.shape[1]\n",
    "    count = 0\n",
    "    for i in range(0, n_test):\n",
    "        y_pred = classify(X_test[:, i], U1, U2, C1, C2)\n",
    "        count += 1 if (y_pred != y_test[i]) else 0\n",
    "    return (1/n_test)*count\n",
    "\n",
    "misclassification_rate(U1, U2, X_test, y_test, C1, C2)"
   ]
  },
  {
   "cell_type": "markdown",
   "metadata": {},
   "source": [
    "### Using a classifier on more digits"
   ]
  },
  {
   "cell_type": "code",
   "execution_count": 19,
   "metadata": {},
   "outputs": [],
   "source": [
    "def svd_classifier(C1, C2, X, Y):\n",
    "    matrix_filter = (Y==C1) | (Y==C2)\n",
    "    filtered_X = X[:, matrix_filter]\n",
    "    filtered_Y = Y[matrix_filter]\n",
    "\n",
    "    num_samples = filtered_X.shape[1]\n",
    "    train_end = int(num_samples * 0.8)\n",
    "    X_train = filtered_X[:, :train_end]\n",
    "    X_test = filtered_X[:, train_end:]\n",
    "\n",
    "    y_train = filtered_Y[:train_end]\n",
    "    y_test = filtered_Y[train_end:]\n",
    "\n",
    "    U1, U2 = fit_classifier(C1, C2, X_train, y_train)\n",
    "    mr = misclassification_rate(U1, U2, X_test, y_test, C1, C2)\n",
    "    return mr"
   ]
  },
  {
   "cell_type": "code",
   "execution_count": 20,
   "metadata": {},
   "outputs": [
    {
     "name": "stdout",
     "output_type": "stream",
     "text": [
      "Misclassification error for (1, 7) is 0.0138\n",
      "Misclassification error for (2, 5) is 0.1304\n",
      "Misclassification error for (6, 9) is 0.1123\n",
      "Misclassification error for (1, 8) is 0.1120\n",
      "Misclassification error for (4, 7) is 0.0702\n",
      "Misclassification error for (3, 8) is 0.1147\n",
      "Misclassification error for (1, 3) is 0.0498\n",
      "\n",
      "Mean value of this set is 0.08616682158725306\n"
     ]
    }
   ],
   "source": [
    "pairs = [(1,7), (2,5), (6,9), (1,8), (4,7), (3,8), (1,3)]\n",
    "mr_s = []\n",
    "for i in pairs :\n",
    "    mr = svd_classifier(i[0], i[1], X, Y)\n",
    "    mr_s.append(mr)\n",
    "    print(f\"Misclassification error for {i} is {mr:.4f}\")\n",
    "\n",
    "mr_mean = sum(mr_s) / len(mr_s)\n",
    "print(f\"\\nMean value of this set is {mr_mean}\")\n"
   ]
  },
  {
   "cell_type": "markdown",
   "metadata": {},
   "source": [
    "The misclassification error is higher for digits who are graphically similar, such as $6$ and $9$ and $8$ and $3$. In the case of the pair $1$ and $7$, while they may look similar, the presence of subtle details (e.g. the line in the center of $7$ and the base of $1$) may the classifier to distinguish more easily the two digits."
   ]
  },
  {
   "cell_type": "markdown",
   "metadata": {},
   "source": [
    "### 3-digit classifier"
   ]
  },
  {
   "cell_type": "code",
   "execution_count": 21,
   "metadata": {},
   "outputs": [],
   "source": [
    "def classify_extended(x, U1, U2, U3, C1, C2, C3):\n",
    "    x_p_1 = U1 @ (U1.T @ x)\n",
    "    x_p_2 = U2 @ (U2.T @ x)\n",
    "    x_p_3 = U3 @ (U3.T @ x)\n",
    "\n",
    "    d1 = np.linalg.norm((x_p_1 - x), 2)\n",
    "    d2 = np.linalg.norm((x_p_2 - x), 2)\n",
    "    d3 = np.linalg.norm((x_p_3 - x), 2)\n",
    "\n",
    "    distances = np.array([d1, d2, d3])\n",
    "    class_labels = [C1, C2, C3]\n",
    "\n",
    "    max_index = np.argmin(distances)\n",
    "    return class_labels[max_index]\n",
    "\n",
    "def misclassification_rate_extended(U1, U2, U3, X_test, y_test, C1, C2, C3):\n",
    "    n_test = X_test.shape[1]\n",
    "    count = 0\n",
    "    for i in range(0, n_test):\n",
    "        y_pred = classify_extended(X_test[:, i], U1, U2, U3, C1, C2, C3)\n",
    "        count += 1 if (y_pred != y_test[i]) else 0\n",
    "    return (1/n_test)*count\n",
    "\n",
    "def fit_classifier_extended(C1, C2, C3, X_train, y_train) :\n",
    "    X1 = X_train[:, y_train == C1]\n",
    "    X2 = X_train[:, y_train == C2]\n",
    "    X3 = X_train[:, y_train == C3]\n",
    "\n",
    "    U1, _, _ = np.linalg.svd(X1, full_matrices=False)\n",
    "    U2, _, _ = np.linalg.svd(X2, full_matrices=False)\n",
    "    U3, _, _ = np.linalg.svd(X3, full_matrices=False)\n",
    "\n",
    "    return U1, U2, U3\n",
    "\n",
    "def svd_classifier_extended(C1, C2, C3, X, Y):\n",
    "    matrix_filter = (Y==C1) | (Y==C2) | (Y==C3)\n",
    "    filtered_X = X[:, matrix_filter]\n",
    "    filtered_Y = Y[matrix_filter]\n",
    "\n",
    "    num_samples = filtered_X.shape[1]\n",
    "    train_end = int(num_samples * 0.8)\n",
    "    X_train = filtered_X[:, :train_end]\n",
    "    X_test = filtered_X[:, train_end:]\n",
    "\n",
    "    y_train = filtered_Y[:train_end]\n",
    "    y_test = filtered_Y[train_end:]\n",
    "\n",
    "    U1, U2, U3 = fit_classifier_extended(C1, C2, C3, X_train, y_train)\n",
    "    mr = misclassification_rate_extended(U1, U2, U3, X_test, y_test, C1, C2, C3)\n",
    "    return mr"
   ]
  },
  {
   "cell_type": "code",
   "execution_count": 22,
   "metadata": {},
   "outputs": [
    {
     "name": "stdout",
     "output_type": "stream",
     "text": [
      "Misclassification error for (1, 7, 2) is 0.0388\n",
      "Misclassification error for (2, 5, 9) is 0.0946\n",
      "Misclassification error for (1, 3, 8) is 0.2302\n",
      "Misclassification error for (3, 6, 9) is 0.1774\n",
      "Misclassification error for (0, 6, 9) is 0.1212\n",
      "\n",
      "Mean value of this set is 0.13243632179069065\n"
     ]
    }
   ],
   "source": [
    "pairs = [(1,7,2), (2,5,9), (1,3,8), (3,6,9), (0,6,9)]\n",
    "\n",
    "mr_s = []\n",
    "\n",
    "for i in pairs :\n",
    "    mr = svd_classifier_extended(i[0], i[1], i[2], X, Y)\n",
    "    mr_s.append(mr)\n",
    "    print(f\"Misclassification error for {i} is {mr:.4f}\")\n",
    "\n",
    "mr_mean = sum(mr_s) / len(mr_s)\n",
    "print(f\"\\nMean value of this set is {mr_mean}\")\n"
   ]
  },
  {
   "cell_type": "markdown",
   "metadata": {},
   "source": [
    "When adding another label to predict, the misclassification error is generally higher in comparison to the two label experiment. In addition, the 3-digit array $1$, $3$, $8$, whose pairs had very high misclassification rate in the previous example, present an even higher value for $MR$. \n",
    "\n",
    "As such, adding another label to the classification process influences the accuracy and overall complexity of the task."
   ]
  }
 ],
 "metadata": {
  "kernelspec": {
   "display_name": "Python 3",
   "language": "python",
   "name": "python3"
  },
  "language_info": {
   "codemirror_mode": {
    "name": "ipython",
    "version": 3
   },
   "file_extension": ".py",
   "mimetype": "text/x-python",
   "name": "python",
   "nbconvert_exporter": "python",
   "pygments_lexer": "ipython3",
   "version": "3.12.7"
  }
 },
 "nbformat": 4,
 "nbformat_minor": 2
}
