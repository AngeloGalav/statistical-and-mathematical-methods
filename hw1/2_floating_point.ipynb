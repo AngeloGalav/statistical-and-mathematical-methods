{
 "cells": [
  {
   "cell_type": "markdown",
   "metadata": {},
   "source": [
    "# HW 1: Linear Algebra and Floating Point Arithmetic, (Part 2: Floating point arithmetic)"
   ]
  },
  {
   "cell_type": "code",
   "execution_count": 2,
   "metadata": {},
   "outputs": [],
   "source": [
    "import numpy as np\n",
    "import matplotlib.pyplot as plt"
   ]
  },
  {
   "cell_type": "markdown",
   "metadata": {},
   "source": [
    "#### Compute $\\epsilon$"
   ]
  },
  {
   "cell_type": "code",
   "execution_count": 3,
   "metadata": {},
   "outputs": [],
   "source": [
    "def compute_machine_epsilon():\n",
    "    epsilon = 1.0\n",
    "    while (1.0 + epsilon) > 1.0:\n",
    "        epsilon /= 2\n",
    "    return epsilon * 2"
   ]
  },
  {
   "cell_type": "markdown",
   "metadata": {},
   "source": [
    "#### Nepero series"
   ]
  },
  {
   "cell_type": "code",
   "execution_count": 4,
   "metadata": {},
   "outputs": [],
   "source": [
    "n_values = np.logspace(-5, 10, num=16, base=10)"
   ]
  },
  {
   "cell_type": "code",
   "execution_count": 5,
   "metadata": {},
   "outputs": [
    {
     "data": {
      "text/plain": [
       "[1.0001151359822877,\n",
       " 1.00092146832801,\n",
       " 1.0069326752808456,\n",
       " 1.0472327459898225,\n",
       " 1.2709816152101405,\n",
       " 2.0,\n",
       " 2.5937424601000023,\n",
       " 2.7048138294215285,\n",
       " 2.7169239322355936,\n",
       " 2.7181459268249255,\n",
       " 2.7182682371922975,\n",
       " 2.7182804690957534,\n",
       " 2.7182816941320818,\n",
       " 2.7182817983473577,\n",
       " 2.7182820520115603,\n",
       " 2.7182820532347876]"
      ]
     },
     "execution_count": 5,
     "metadata": {},
     "output_type": "execute_result"
    }
   ],
   "source": [
    "def a_n(n):\n",
    "    return (1 + 1/n)**n\n",
    "\n",
    "nepero_results = [a_n(x) for x in n_values]\n",
    "nepero_results"
   ]
  },
  {
   "cell_type": "code",
   "execution_count": 6,
   "metadata": {},
   "outputs": [
    {
     "name": "stdout",
     "output_type": "stream",
     "text": [
      "2.718281828459045\n"
     ]
    }
   ],
   "source": [
    "print(np.e)"
   ]
  },
  {
   "cell_type": "code",
   "execution_count": 7,
   "metadata": {},
   "outputs": [
    {
     "data": {
      "image/png": "[encoded data removed]",
      "text/plain": [
       "<Figure size 1000x500 with 1 Axes>"
      ]
     },
     "metadata": {},
     "output_type": "display_data"
    }
   ],
   "source": [
    "plt.figure(figsize=(10, 5))\n",
    "plt.semilogx(n_values, nepero_results, marker='o', linestyle='-')\n",
    "plt.xlabel('$n$')\n",
    "plt.axhline(y=np.e, color='red', linestyle='--', label='$y = e$')\n",
    "plt.ylabel('$a_n$')\n",
    "plt.grid(True)\n",
    "plt.legend()\n",
    "plt.show()"
   ]
  },
  {
   "cell_type": "markdown",
   "metadata": {},
   "source": [
    "As $n$ increases, the value of the function gets closer to the value of $e$. On the other hand, for small values of $n$, the value is closer to 1.\n",
    "\n",
    "When the number is very large however, it can even surpass the real value of $e$."
   ]
  },
  {
   "cell_type": "markdown",
   "metadata": {},
   "source": [
    "#### Matrices"
   ]
  },
  {
   "cell_type": "code",
   "execution_count": 8,
   "metadata": {},
   "outputs": [
    {
     "name": "stdout",
     "output_type": "stream",
     "text": [
      "Matrix A:\n",
      "Rank: 2\n",
      "Eigenvalues: [5. 2.]\n",
      "Matrix B:\n",
      "Rank: 1\n",
      "Eigenvalues: [5. 0.]\n"
     ]
    }
   ],
   "source": [
    "import numpy as np\n",
    "\n",
    "A = np.array([[4, 2],\n",
    "              [1, 3]])\n",
    "\n",
    "B = np.array([[4, 2],\n",
    "              [2, 1]])\n",
    "\n",
    "rank_A = np.linalg.matrix_rank(A)\n",
    "rank_B = np.linalg.matrix_rank(B)\n",
    "\n",
    "eigenvalues_A = np.linalg.eigvals(A)\n",
    "eigenvalues_B = np.linalg.eigvals(B)\n",
    "\n",
    "print(f\"Matrix A:\\nRank: {rank_A}\\nEigenvalues: {eigenvalues_A}\")\n",
    "print(f\"Matrix B:\\nRank: {rank_B}\\nEigenvalues: {eigenvalues_B}\")\n"
   ]
  },
  {
   "cell_type": "markdown",
   "metadata": {},
   "source": [
    "In this case, we have that matrix $A$ is full-rank, while matrix $B$ indeed is not. In the case of matrix $B$, one of the eigenvalues is 0, while for matrix $A$, since it's full-rank, the eigenvalues are non-zero ($\\lambda \\ne 0$)."
   ]
  },
  {
   "cell_type": "code",
   "execution_count": 9,
   "metadata": {},
   "outputs": [
    {
     "name": "stdout",
     "output_type": "stream",
     "text": [
      "Matrix C:\n",
      "Rank: 2\n",
      "Eigenvalues: [-4.33781253e-17+0.j          1.05000000e+01+2.95803989j\n",
      "  1.05000000e+01-2.95803989j]\n",
      "\n",
      "Matrix D:\n",
      "Rank: 3\n",
      "Eigenvalues: [11.82760166 -0.42325143  3.59564977]\n",
      "\n",
      "Matrix E:\n",
      "Rank: 1\n",
      "Eigenvalues: [ 6.00000000e+00 -4.46188628e-16 -5.63781898e-18]\n",
      "\n",
      "Matrix F:\n",
      "Rank: 1\n",
      "Eigenvalues: [ 0.00000000e+00  1.00000000e+01  0.00000000e+00 -1.38018242e-16]\n",
      "\n"
     ]
    }
   ],
   "source": [
    "matrices = {\n",
    "'C' : np.array([[1, 2, 3],\n",
    "              [3, 6, 9],\n",
    "              [-1, -2, 14]]),\n",
    "'D' : np.array([[1, 2, 3],\n",
    "              [4, 5, 6],\n",
    "              [1, 2, 9]]),\n",
    "'E' : np.array([[1, 2, 3],\n",
    "              [1, 2, 3],\n",
    "              [1, 2, 3]]), \n",
    "'F' : np.array([[1, 2, 3, 4],\n",
    "              [1, 2, 3, 4],\n",
    "              [1, 2, 3, 4],\n",
    "              [1, 2, 3, 4]])}\n",
    "\n",
    "\n",
    "for i in matrices.items() :\n",
    "    rank = np.linalg.matrix_rank(i[1])\n",
    "    eigenvalues = np.linalg.eigvals(i[1])\n",
    "\n",
    "    print(f\"Matrix {i[0]}:\\nRank: {rank}\\nEigenvalues: {eigenvalues}\\n\")\n",
    "\n"
   ]
  },
  {
   "cell_type": "markdown",
   "metadata": {},
   "source": [
    "Matrix $F$ has some zero eigenvalues, implying that if an eigenvalue is zero than the matrix is not full rank, but that the inverse is not necessarily true.\n",
    "\n",
    "If a matrix is full-rank, we can be sure there will be no zero eigenvalues. This is because the determinant of a full-rank square matrix is non-zero, implying none of the eigenvalues are zero.\n",
    "\n",
    "This is also consistent with the fact that a (square) full-rank matrix is invertible, and that the determinant of a square matrix $det(A)$ must be non-zero for it to be invertible.\n",
    "\n",
    "On the other a hand, matrix that is not full-rank __is not invertible__."
   ]
  }
 ],
 "metadata": {
  "kernelspec": {
   "display_name": "Python 3",
   "language": "python",
   "name": "python3"
  },
  "language_info": {
   "codemirror_mode": {
    "name": "ipython",
    "version": 3
   },
   "file_extension": ".py",
   "mimetype": "text/x-python",
   "name": "python",
   "nbconvert_exporter": "python",
   "pygments_lexer": "ipython3",
   "version": "3.12.7"
  }
 },
 "nbformat": 4,
 "nbformat_minor": 2
}
